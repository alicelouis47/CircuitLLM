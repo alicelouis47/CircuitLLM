{
 "cells": [
  {
   "cell_type": "markdown",
   "metadata": {},
   "source": [
    "# 🔧 1. Preprocess the Image\n"
   ]
  },
  {
   "cell_type": "markdown",
   "metadata": {},
   "source": [
    "I OR 1"
   ]
  },
  {
   "cell_type": "code",
   "execution_count": 2,
   "metadata": {},
   "outputs": [
    {
     "data": {
      "image/png": "[encoded data removed]",
      "text/plain": [
       "<Figure size 1500x300 with 7 Axes>"
      ]
     },
     "metadata": {},
     "output_type": "display_data"
    },
    {
     "name": "stdout",
     "output_type": "stream",
     "text": [
      "[['None'], ['I', '1'], ['1'], ['None', 'None', '1']]\n",
      "--- 0.136580228805542 seconds ---\n"
     ]
    }
   ],
   "source": [
    "import cv2\n",
    "import numpy as np\n",
    "import matplotlib.pyplot as plt\n",
    "import time\n",
    "start_time = time.time()\n",
    "\n",
    "\n",
    "\n",
    "# Load and preprocess image\n",
    "image_path = \"ex_cir.png\"\n",
    "img = cv2.imread(image_path)\n",
    "gray = cv2.cvtColor(img, cv2.COLOR_BGR2GRAY)\n",
    "_, thresh = cv2.threshold(gray, 0, 255, cv2.THRESH_BINARY_INV + cv2.THRESH_OTSU)\n",
    "\n",
    "# Find contours and extract bounding boxes\n",
    "contours, _ = cv2.findContours(thresh, cv2.RETR_EXTERNAL, cv2.CHAIN_APPROX_SIMPLE)\n",
    "bounding_boxes = [cv2.boundingRect(c) for c in contours]\n",
    "\n",
    "# Group bounding boxes into lines by y-coordinate\n",
    "line_threshold = 15\n",
    "lines = []\n",
    "for box in bounding_boxes:\n",
    "    x, y, w, h = box\n",
    "    for line in lines:\n",
    "        if abs(line[0][1] - y) < line_threshold:\n",
    "            line.append(box)\n",
    "            break\n",
    "    else:\n",
    "        lines.append([box])\n",
    "\n",
    "# Sort lines by y, and each line by x\n",
    "lines = sorted(lines, key=lambda l: l[0][1])\n",
    "for line in lines:\n",
    "    line.sort(key=lambda box: box[0])\n",
    "sorted_boxes = [box for line in lines for box in line]\n",
    "\n",
    "# Extract and classify character images\n",
    "def classify_character(img):\n",
    "    _, binary = cv2.threshold(img, 127, 255, cv2.THRESH_BINARY_INV)\n",
    "    h, w = binary.shape\n",
    "    if w == 0:\n",
    "        return \"None\"\n",
    "    aspect_ratio = h / float(w)\n",
    "    horizontal_sum = np.sum(binary, axis=1)\n",
    "    top = horizontal_sum[:10].mean()\n",
    "    bottom = horizontal_sum[-10:].mean()\n",
    "\n",
    "    if aspect_ratio > 1.7 and bottom > top * 0.9 and bottom < top * 1.1:\n",
    "        return \"I\"\n",
    "    elif 1.3 < aspect_ratio < 1.7 and bottom > top * 1.2:\n",
    "        return \"1\"\n",
    "    return \"None\"\n",
    "\n",
    "# Display character crops\n",
    "char_images = []\n",
    "for x, y, w, h in sorted_boxes:\n",
    "    if h > 10 and w > 5:\n",
    "        char_crop = gray[y:y+h, x:x+w]\n",
    "        char_images.append(char_crop)\n",
    "\n",
    "fig, axs = plt.subplots(1, len(char_images), figsize=(15, 3))\n",
    "for i, char_img in enumerate(char_images):\n",
    "    axs[i].imshow(char_img, cmap='gray')\n",
    "    axs[i].axis('off')\n",
    "plt.tight_layout()\n",
    "plt.show()\n",
    "\n",
    "# Group bounding boxes into lines again for grouped results\n",
    "grouped_lines = []\n",
    "for box in sorted_boxes:\n",
    "    x, y, w, h = box\n",
    "    for line in grouped_lines:\n",
    "        if abs(line[0][1] - y) < line_threshold:\n",
    "            line.append((x, y, w, h))\n",
    "            break\n",
    "    else:\n",
    "        grouped_lines.append([(x, y, w, h)])\n",
    "\n",
    "# Sort each line and classify characters\n",
    "grouped_results = []\n",
    "for line in grouped_lines:\n",
    "    line.sort(key=lambda b: b[0])\n",
    "    line_result = []\n",
    "    for x, y, w, h in line:\n",
    "        if h > 10 and w > 5:\n",
    "            char_crop = gray[y:y+h, x:x+w]\n",
    "            classification = classify_character(char_crop)\n",
    "            line_result.append(classification)\n",
    "    grouped_results.append(line_result)\n",
    "\n",
    "# Output grouped classification results\n",
    "print(grouped_results)\n",
    "print(\"--- %s seconds ---\" % (time.time() - start_time))\n"
   ]
  }
 ],
 "metadata": {
  "kernelspec": {
   "display_name": "base",
   "language": "python",
   "name": "python3"
  },
  "language_info": {
   "codemirror_mode": {
    "name": "ipython",
    "version": 3
   },
   "file_extension": ".py",
   "mimetype": "text/x-python",
   "name": "python",
   "nbconvert_exporter": "python",
   "pygments_lexer": "ipython3",
   "version": "3.11.7"
  }
 },
 "nbformat": 4,
 "nbformat_minor": 2
}
